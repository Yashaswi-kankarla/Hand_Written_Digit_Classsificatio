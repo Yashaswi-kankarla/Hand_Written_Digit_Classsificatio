{
  "nbformat": 4,
  "nbformat_minor": 0,
  "metadata": {
    "colab": {
      "provenance": [],
      "authorship_tag": "ABX9TyMW/e0PwfOqDPMCK9/HPszg",
      "include_colab_link": true
    },
    "kernelspec": {
      "name": "python3",
      "display_name": "Python 3"
    },
    "language_info": {
      "name": "python"
    }
  },
  "cells": [
    {
      "cell_type": "markdown",
      "metadata": {
        "id": "view-in-github",
        "colab_type": "text"
      },
      "source": [
        "<a href=\"https://colab.research.google.com/github/Yashaswi-kankarla/Hand_Written_Digit_Classsificatio/blob/main/Untitled9.ipynb\" target=\"_parent\"><img src=\"https://colab.research.google.com/assets/colab-badge.svg\" alt=\"Open In Colab\"/></a>"
      ]
    },
    {
      "cell_type": "markdown",
      "source": [
        "**HAND WRITTEN DIGIT PREDICTION - CLASSIFICATION MODULE**"
      ],
      "metadata": {
        "id": "T3vm9X0AXorI"
      }
    },
    {
      "cell_type": "markdown",
      "source": [
        "The project is to predict the hand written digit or letter in a image using Machine Learning. Every image size is 8x8.\n",
        ""
      ],
      "metadata": {
        "id": "ZyQzhe3hXpEa"
      }
    },
    {
      "cell_type": "markdown",
      "source": [
        "**IMPORT LIBRARY**"
      ],
      "metadata": {
        "id": "Rm0EHAOIYpo-"
      }
    },
    {
      "cell_type": "code",
      "execution_count": 28,
      "metadata": {
        "id": "onCSK8LHXgsW"
      },
      "outputs": [],
      "source": [
        "import pandas as pd\n",
        "import numpy as np\n",
        "import matplotlib.pyplot as plt"
      ]
    },
    {
      "cell_type": "markdown",
      "source": [
        "**IMPORT** **DATA**"
      ],
      "metadata": {
        "id": "fTwZYcn8ZHl5"
      }
    },
    {
      "cell_type": "code",
      "source": [
        "from sklearn.datasets import load_digits\n",
        "df= load_digits()\n",
        "_, axes=plt.subplots(nrows=1,ncols=4,figsize=(10,3))\n",
        "for ax,image,label in zip(axes,df.images,df.target):\n",
        "    ax.set_axis_off()\n",
        "    ax.imshow(image,cmap=plt.cm.gray_r,interpolation=\"nearest\")\n",
        "    ax.set_title(\"Training: %i\"%label)"
      ],
      "metadata": {
        "colab": {
          "base_uri": "https://localhost:8080/",
          "height": 227
        },
        "id": "0FtAEyVVXqT1",
        "outputId": "f1b9273b-8733-4482-c0d2-de88470ecac4"
      },
      "execution_count": 30,
      "outputs": [
        {
          "output_type": "display_data",
          "data": {
            "text/plain": [
              "<Figure size 1000x300 with 4 Axes>"
            ],
            "image/png": "[encoded data removed]"
          },
          "metadata": {}
        }
      ]
    },
    {
      "cell_type": "markdown",
      "source": [
        "**DESCRIBE DATA**"
      ],
      "metadata": {
        "id": "is5NhXC7iIBe"
      }
    },
    {
      "cell_type": "code",
      "source": [
        "df.images.shape"
      ],
      "metadata": {
        "colab": {
          "base_uri": "https://localhost:8080/"
        },
        "id": "WUB83eMqiQJJ",
        "outputId": "7f8511f3-b9c9-45a1-d793-920d9c2a62fb"
      },
      "execution_count": 31,
      "outputs": [
        {
          "output_type": "execute_result",
          "data": {
            "text/plain": [
              "(1797, 8, 8)"
            ]
          },
          "metadata": {},
          "execution_count": 31
        }
      ]
    },
    {
      "cell_type": "code",
      "source": [
        "df.images[0].shape"
      ],
      "metadata": {
        "colab": {
          "base_uri": "https://localhost:8080/"
        },
        "id": "QZi_POQtiwn0",
        "outputId": "75d9a160-6dc1-497d-daaf-b81ca0d3f571"
      },
      "execution_count": 32,
      "outputs": [
        {
          "output_type": "execute_result",
          "data": {
            "text/plain": [
              "(8, 8)"
            ]
          },
          "metadata": {},
          "execution_count": 32
        }
      ]
    },
    {
      "cell_type": "markdown",
      "source": [
        "This shows that the dataset has 1797 images. And every image size is 8x8."
      ],
      "metadata": {
        "id": "0R503_xmi6U5"
      }
    },
    {
      "cell_type": "markdown",
      "source": [
        "**DATA PREPROCESSING**"
      ],
      "metadata": {
        "id": "78ET1VHkejCi"
      }
    },
    {
      "cell_type": "markdown",
      "source": [
        "Flatten Image"
      ],
      "metadata": {
        "id": "FQvzhavofWu-"
      }
    },
    {
      "cell_type": "markdown",
      "source": [
        "  \n",
        "\n",
        "> **8x8_Image**\n",
        "\n",
        "\n",
        "\n",
        "\n",
        "![Screenshot (20).png](data:image/png;base64,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)\n",
        "\n",
        "                \n",
        "\n",
        "> **Flatten Image**\n",
        "\n",
        "\n",
        "\n",
        "![Screenshot (21).png](data:image/png;base64,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)"
      ],
      "metadata": {
        "id": "R3c4kp9XfXsp"
      }
    },
    {
      "cell_type": "code",
      "source": [
        "n_sample=len(df.images)\n",
        "data=df.images.reshape(n_sample,-1)"
      ],
      "metadata": {
        "id": "iz18LfTNXqtE"
      },
      "execution_count": 34,
      "outputs": []
    },
    {
      "cell_type": "code",
      "source": [
        "data.shape"
      ],
      "metadata": {
        "colab": {
          "base_uri": "https://localhost:8080/"
        },
        "id": "q2fHJ1GwkigH",
        "outputId": "5e3e699b-1f21-4276-8b30-e8d2ccd4e689"
      },
      "execution_count": 35,
      "outputs": [
        {
          "output_type": "execute_result",
          "data": {
            "text/plain": [
              "(1797, 64)"
            ]
          },
          "metadata": {},
          "execution_count": 35
        }
      ]
    },
    {
      "cell_type": "markdown",
      "source": [
        "In preprocessing, image is converted into flaten image or a array. Image is a 8x8 array(2D), and Data is 64 elements array(1D)."
      ],
      "metadata": {
        "id": "1G5jrBzSkmDv"
      }
    },
    {
      "cell_type": "markdown",
      "source": [
        "**DATA SCALING**"
      ],
      "metadata": {
        "id": "uHSHSKj_lIvz"
      }
    },
    {
      "cell_type": "code",
      "source": [
        "data.min()"
      ],
      "metadata": {
        "colab": {
          "base_uri": "https://localhost:8080/"
        },
        "id": "LVXJ5fP8l3qM",
        "outputId": "ebf2e455-ef5c-4f12-8d25-92eb40f6b525"
      },
      "execution_count": 39,
      "outputs": [
        {
          "output_type": "execute_result",
          "data": {
            "text/plain": [
              "0.0"
            ]
          },
          "metadata": {},
          "execution_count": 39
        }
      ]
    },
    {
      "cell_type": "code",
      "source": [
        "data.max()"
      ],
      "metadata": {
        "colab": {
          "base_uri": "https://localhost:8080/"
        },
        "id": "-MEY9Jvdlfyi",
        "outputId": "99511a4a-e344-4caa-9791-57614a768fd0"
      },
      "execution_count": 37,
      "outputs": [
        {
          "output_type": "execute_result",
          "data": {
            "text/plain": [
              "16.0"
            ]
          },
          "metadata": {},
          "execution_count": 37
        }
      ]
    },
    {
      "cell_type": "code",
      "source": [
        "data=data/16\n",
        "data[0]"
      ],
      "metadata": {
        "colab": {
          "base_uri": "https://localhost:8080/"
        },
        "id": "jk2i_p7llo3A",
        "outputId": "910d25d8-8d47-49a5-ea7e-953c07c3e831"
      },
      "execution_count": 38,
      "outputs": [
        {
          "output_type": "execute_result",
          "data": {
            "text/plain": [
              "array([0.    , 0.    , 0.3125, 0.8125, 0.5625, 0.0625, 0.    , 0.    ,\n",
              "       0.    , 0.    , 0.8125, 0.9375, 0.625 , 0.9375, 0.3125, 0.    ,\n",
              "       0.    , 0.1875, 0.9375, 0.125 , 0.    , 0.6875, 0.5   , 0.    ,\n",
              "       0.    , 0.25  , 0.75  , 0.    , 0.    , 0.5   , 0.5   , 0.    ,\n",
              "       0.    , 0.3125, 0.5   , 0.    , 0.    , 0.5625, 0.5   , 0.    ,\n",
              "       0.    , 0.25  , 0.6875, 0.    , 0.0625, 0.75  , 0.4375, 0.    ,\n",
              "       0.    , 0.125 , 0.875 , 0.3125, 0.625 , 0.75  , 0.    , 0.    ,\n",
              "       0.    , 0.    , 0.375 , 0.8125, 0.625 , 0.    , 0.    , 0.    ])"
            ]
          },
          "metadata": {},
          "execution_count": 38
        }
      ]
    },
    {
      "cell_type": "code",
      "source": [
        "data.max()"
      ],
      "metadata": {
        "colab": {
          "base_uri": "https://localhost:8080/"
        },
        "id": "boidZmGImLD6",
        "outputId": "bbb2ab74-5e80-4fcc-9b7d-bc1b32a4fc58"
      },
      "execution_count": 40,
      "outputs": [
        {
          "output_type": "execute_result",
          "data": {
            "text/plain": [
              "1.0"
            ]
          },
          "metadata": {},
          "execution_count": 40
        }
      ]
    },
    {
      "cell_type": "markdown",
      "source": [
        "**SPLIT TRAIN AND TEST DATA**"
      ],
      "metadata": {
        "id": "tYDfiP3AmQ6M"
      }
    },
    {
      "cell_type": "code",
      "source": [
        "from sklearn.model_selection import train_test_split\n",
        "X_train,X_test,y_train,y_test=train_test_split(data,df.target,test_size=0.3)"
      ],
      "metadata": {
        "id": "bdynM1_Bmbi3"
      },
      "execution_count": 42,
      "outputs": []
    },
    {
      "cell_type": "code",
      "source": [
        "X_train.shape,X_test.shape,y_train.shape,y_test.shape"
      ],
      "metadata": {
        "colab": {
          "base_uri": "https://localhost:8080/"
        },
        "id": "Os2Z00fXnOP9",
        "outputId": "701b8056-f4ca-49ae-b38c-8c212d9e9141"
      },
      "execution_count": 43,
      "outputs": [
        {
          "output_type": "execute_result",
          "data": {
            "text/plain": [
              "((1257, 64), (540, 64), (1257,), (540,))"
            ]
          },
          "metadata": {},
          "execution_count": 43
        }
      ]
    },
    {
      "cell_type": "markdown",
      "source": [
        "**TRAIN THE MODEL**"
      ],
      "metadata": {
        "id": "ni1-e-0hni04"
      }
    },
    {
      "cell_type": "code",
      "source": [
        "from sklearn.ensemble import RandomForestClassifier\n",
        "rf=RandomForestClassifier()\n",
        "rf.fit(X_train,y_train)"
      ],
      "metadata": {
        "colab": {
          "base_uri": "https://localhost:8080/",
          "height": 74
        },
        "id": "oFd1MJavnwBm",
        "outputId": "b4f35c89-4af2-4350-b874-d47f6cf0c2e0"
      },
      "execution_count": 44,
      "outputs": [
        {
          "output_type": "execute_result",
          "data": {
            "text/plain": [
              "RandomForestClassifier()"
            ],
            "text/html": [
              "<style>#sk-container-id-1 {color: black;background-color: white;}#sk-container-id-1 pre{padding: 0;}#sk-container-id-1 div.sk-toggleable {background-color: white;}#sk-container-id-1 label.sk-toggleable__label {cursor: pointer;display: block;width: 100%;margin-bottom: 0;padding: 0.3em;box-sizing: border-box;text-align: center;}#sk-container-id-1 label.sk-toggleable__label-arrow:before {content: \"▸\";float: left;margin-right: 0.25em;color: #696969;}#sk-container-id-1 label.sk-toggleable__label-arrow:hover:before {color: black;}#sk-container-id-1 div.sk-estimator:hover label.sk-toggleable__label-arrow:before {color: black;}#sk-container-id-1 div.sk-toggleable__content {max-height: 0;max-width: 0;overflow: hidden;text-align: left;background-color: #f0f8ff;}#sk-container-id-1 div.sk-toggleable__content pre {margin: 0.2em;color: black;border-radius: 0.25em;background-color: #f0f8ff;}#sk-container-id-1 input.sk-toggleable__control:checked~div.sk-toggleable__content {max-height: 200px;max-width: 100%;overflow: auto;}#sk-container-id-1 input.sk-toggleable__control:checked~label.sk-toggleable__label-arrow:before {content: \"▾\";}#sk-container-id-1 div.sk-estimator input.sk-toggleable__control:checked~label.sk-toggleable__label {background-color: #d4ebff;}#sk-container-id-1 div.sk-label input.sk-toggleable__control:checked~label.sk-toggleable__label {background-color: #d4ebff;}#sk-container-id-1 input.sk-hidden--visually {border: 0;clip: rect(1px 1px 1px 1px);clip: rect(1px, 1px, 1px, 1px);height: 1px;margin: -1px;overflow: hidden;padding: 0;position: absolute;width: 1px;}#sk-container-id-1 div.sk-estimator {font-family: monospace;background-color: #f0f8ff;border: 1px dotted black;border-radius: 0.25em;box-sizing: border-box;margin-bottom: 0.5em;}#sk-container-id-1 div.sk-estimator:hover {background-color: #d4ebff;}#sk-container-id-1 div.sk-parallel-item::after {content: \"\";width: 100%;border-bottom: 1px solid gray;flex-grow: 1;}#sk-container-id-1 div.sk-label:hover label.sk-toggleable__label {background-color: #d4ebff;}#sk-container-id-1 div.sk-serial::before {content: \"\";position: absolute;border-left: 1px solid gray;box-sizing: border-box;top: 0;bottom: 0;left: 50%;z-index: 0;}#sk-container-id-1 div.sk-serial {display: flex;flex-direction: column;align-items: center;background-color: white;padding-right: 0.2em;padding-left: 0.2em;position: relative;}#sk-container-id-1 div.sk-item {position: relative;z-index: 1;}#sk-container-id-1 div.sk-parallel {display: flex;align-items: stretch;justify-content: center;background-color: white;position: relative;}#sk-container-id-1 div.sk-item::before, #sk-container-id-1 div.sk-parallel-item::before {content: \"\";position: absolute;border-left: 1px solid gray;box-sizing: border-box;top: 0;bottom: 0;left: 50%;z-index: -1;}#sk-container-id-1 div.sk-parallel-item {display: flex;flex-direction: column;z-index: 1;position: relative;background-color: white;}#sk-container-id-1 div.sk-parallel-item:first-child::after {align-self: flex-end;width: 50%;}#sk-container-id-1 div.sk-parallel-item:last-child::after {align-self: flex-start;width: 50%;}#sk-container-id-1 div.sk-parallel-item:only-child::after {width: 0;}#sk-container-id-1 div.sk-dashed-wrapped {border: 1px dashed gray;margin: 0 0.4em 0.5em 0.4em;box-sizing: border-box;padding-bottom: 0.4em;background-color: white;}#sk-container-id-1 div.sk-label label {font-family: monospace;font-weight: bold;display: inline-block;line-height: 1.2em;}#sk-container-id-1 div.sk-label-container {text-align: center;}#sk-container-id-1 div.sk-container {/* jupyter's `normalize.less` sets `[hidden] { display: none; }` but bootstrap.min.css set `[hidden] { display: none !important; }` so we also need the `!important` here to be able to override the default hidden behavior on the sphinx rendered scikit-learn.org. See: https://github.com/scikit-learn/scikit-learn/issues/21755 */display: inline-block !important;position: relative;}#sk-container-id-1 div.sk-text-repr-fallback {display: none;}</style><div id=\"sk-container-id-1\" class=\"sk-top-container\"><div class=\"sk-text-repr-fallback\"><pre>RandomForestClassifier()</pre><b>In a Jupyter environment, please rerun this cell to show the HTML representation or trust the notebook. <br />On GitHub, the HTML representation is unable to render, please try loading this page with nbviewer.org.</b></div><div class=\"sk-container\" hidden><div class=\"sk-item\"><div class=\"sk-estimator sk-toggleable\"><input class=\"sk-toggleable__control sk-hidden--visually\" id=\"sk-estimator-id-1\" type=\"checkbox\" checked><label for=\"sk-estimator-id-1\" class=\"sk-toggleable__label sk-toggleable__label-arrow\">RandomForestClassifier</label><div class=\"sk-toggleable__content\"><pre>RandomForestClassifier()</pre></div></div></div></div></div>"
            ]
          },
          "metadata": {},
          "execution_count": 44
        }
      ]
    },
    {
      "cell_type": "markdown",
      "source": [
        "**PREDICT THE TEST DATA**"
      ],
      "metadata": {
        "id": "Em69cQAzoMZj"
      }
    },
    {
      "cell_type": "code",
      "source": [
        "y_pred=rf.predict(X_test)\n",
        "y_pred"
      ],
      "metadata": {
        "colab": {
          "base_uri": "https://localhost:8080/"
        },
        "id": "ohMlL3CboTfg",
        "outputId": "27d63dd3-dc4c-405b-cbdc-b236858de106"
      },
      "execution_count": 46,
      "outputs": [
        {
          "output_type": "execute_result",
          "data": {
            "text/plain": [
              "array([7, 8, 2, 9, 2, 7, 2, 2, 1, 8, 5, 6, 9, 7, 2, 7, 1, 6, 2, 5, 5, 6,\n",
              "       5, 5, 0, 4, 9, 3, 3, 1, 0, 5, 9, 2, 6, 9, 7, 2, 4, 6, 4, 2, 0, 2,\n",
              "       2, 3, 1, 1, 8, 4, 2, 9, 3, 4, 4, 2, 5, 9, 7, 9, 5, 7, 6, 1, 0, 9,\n",
              "       4, 9, 7, 5, 8, 6, 7, 5, 3, 3, 2, 5, 3, 1, 8, 5, 2, 9, 9, 0, 7, 6,\n",
              "       4, 3, 4, 6, 2, 5, 6, 6, 0, 2, 9, 9, 4, 1, 0, 2, 2, 6, 7, 7, 2, 8,\n",
              "       6, 0, 9, 5, 3, 7, 2, 8, 1, 1, 4, 8, 0, 6, 4, 3, 7, 7, 0, 0, 6, 3,\n",
              "       4, 1, 5, 8, 3, 9, 8, 7, 6, 1, 9, 5, 5, 4, 2, 3, 2, 7, 3, 9, 6, 9,\n",
              "       0, 9, 8, 1, 7, 7, 5, 4, 7, 5, 8, 8, 3, 4, 4, 2, 9, 5, 3, 8, 6, 8,\n",
              "       4, 7, 1, 6, 8, 2, 4, 4, 5, 8, 5, 2, 3, 5, 4, 1, 6, 9, 3, 7, 0, 5,\n",
              "       9, 0, 6, 5, 9, 8, 1, 1, 0, 3, 3, 6, 2, 5, 4, 3, 8, 9, 8, 9, 5, 1,\n",
              "       8, 2, 7, 9, 3, 7, 6, 9, 1, 2, 5, 2, 7, 5, 0, 0, 5, 2, 6, 2, 1, 0,\n",
              "       0, 1, 5, 8, 3, 9, 7, 0, 0, 3, 9, 3, 7, 3, 1, 7, 6, 6, 9, 9, 6, 2,\n",
              "       8, 4, 9, 7, 4, 9, 4, 7, 3, 2, 6, 4, 3, 5, 1, 5, 9, 2, 6, 7, 7, 4,\n",
              "       7, 4, 3, 2, 3, 9, 8, 2, 6, 5, 2, 2, 2, 5, 2, 9, 9, 6, 3, 7, 1, 7,\n",
              "       0, 1, 7, 6, 3, 1, 8, 2, 6, 2, 2, 0, 2, 9, 7, 6, 9, 3, 3, 8, 2, 2,\n",
              "       2, 7, 5, 4, 9, 2, 6, 7, 8, 1, 3, 1, 5, 2, 0, 4, 0, 4, 2, 9, 9, 9,\n",
              "       5, 8, 5, 6, 4, 4, 3, 1, 7, 7, 5, 7, 5, 5, 6, 7, 9, 5, 5, 6, 3, 0,\n",
              "       6, 9, 8, 4, 6, 9, 4, 0, 3, 7, 7, 6, 6, 9, 7, 3, 4, 1, 8, 1, 8, 7,\n",
              "       3, 2, 3, 7, 5, 4, 5, 2, 1, 0, 4, 9, 8, 9, 9, 7, 9, 9, 3, 5, 1, 6,\n",
              "       5, 5, 5, 5, 0, 6, 6, 6, 7, 6, 7, 9, 2, 5, 8, 7, 8, 8, 4, 7, 4, 3,\n",
              "       5, 4, 6, 3, 7, 1, 1, 1, 9, 4, 1, 8, 9, 6, 0, 4, 5, 6, 1, 6, 8, 6,\n",
              "       4, 2, 7, 9, 2, 0, 7, 2, 0, 2, 1, 7, 3, 2, 6, 7, 6, 5, 8, 6, 2, 5,\n",
              "       7, 5, 5, 4, 1, 3, 7, 7, 4, 3, 8, 9, 8, 3, 6, 9, 9, 6, 8, 0, 6, 1,\n",
              "       8, 1, 9, 1, 9, 0, 3, 5, 0, 9, 0, 9, 6, 4, 1, 8, 0, 6, 2, 9, 0, 0,\n",
              "       8, 5, 2, 4, 7, 9, 0, 9, 6, 0, 5, 8])"
            ]
          },
          "metadata": {},
          "execution_count": 46
        }
      ]
    },
    {
      "cell_type": "markdown",
      "source": [
        "**MODEL ACCURACY**"
      ],
      "metadata": {
        "id": "yykawFtHomQ2"
      }
    },
    {
      "cell_type": "code",
      "source": [
        "from sklearn.metrics import confusion_matrix,classification_report\n",
        "confusion_matrix(y_test,y_pred)"
      ],
      "metadata": {
        "colab": {
          "base_uri": "https://localhost:8080/"
        },
        "id": "vUhtdII8over",
        "outputId": "806d4a6f-e207-43dd-cbd9-2a969cfee0e6"
      },
      "execution_count": 47,
      "outputs": [
        {
          "output_type": "execute_result",
          "data": {
            "text/plain": [
              "array([[41,  0,  0,  0,  0,  0,  0,  0,  0,  0],\n",
              "       [ 0, 44,  0,  0,  0,  0,  0,  0,  0,  0],\n",
              "       [ 0,  0, 62,  0,  0,  0,  0,  0,  0,  0],\n",
              "       [ 0,  0,  0, 49,  0,  0,  0,  1,  0,  0],\n",
              "       [ 0,  0,  0,  0, 48,  0,  0,  0,  0,  3],\n",
              "       [ 0,  0,  0,  0,  0, 60,  0,  0,  0,  1],\n",
              "       [ 0,  0,  0,  0,  0,  0, 61,  0,  0,  0],\n",
              "       [ 0,  0,  0,  0,  0,  0,  0, 60,  0,  0],\n",
              "       [ 0,  0,  0,  0,  0,  0,  0,  1, 44,  0],\n",
              "       [ 0,  0,  0,  0,  0,  1,  0,  0,  1, 63]])"
            ]
          },
          "metadata": {},
          "execution_count": 47
        }
      ]
    },
    {
      "cell_type": "code",
      "source": [
        "print(classification_report(y_test,y_pred))"
      ],
      "metadata": {
        "colab": {
          "base_uri": "https://localhost:8080/"
        },
        "id": "gmZY63YZpH85",
        "outputId": "5a5d192e-4eca-4205-9d96-46622b40f8f7"
      },
      "execution_count": 48,
      "outputs": [
        {
          "output_type": "stream",
          "name": "stdout",
          "text": [
            "              precision    recall  f1-score   support\n",
            "\n",
            "           0       1.00      1.00      1.00        41\n",
            "           1       1.00      1.00      1.00        44\n",
            "           2       1.00      1.00      1.00        62\n",
            "           3       1.00      0.98      0.99        50\n",
            "           4       1.00      0.94      0.97        51\n",
            "           5       0.98      0.98      0.98        61\n",
            "           6       1.00      1.00      1.00        61\n",
            "           7       0.97      1.00      0.98        60\n",
            "           8       0.98      0.98      0.98        45\n",
            "           9       0.94      0.97      0.95        65\n",
            "\n",
            "    accuracy                           0.99       540\n",
            "   macro avg       0.99      0.99      0.99       540\n",
            "weighted avg       0.99      0.99      0.99       540\n",
            "\n"
          ]
        }
      ]
    }
  ]
}